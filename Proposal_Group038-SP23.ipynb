{
 "cells": [
  {
   "attachments": {},
   "cell_type": "markdown",
   "metadata": {},
   "source": [
    "# COGS 118A- Project Proposal"
   ]
  },
  {
   "attachments": {},
   "cell_type": "markdown",
   "metadata": {},
   "source": [
    "# Names\n",
    "- Bruce Zhou\n",
    "- Yifei Wang\n",
    "- Qiyun Li"
   ]
  },
  {
   "attachments": {},
   "cell_type": "markdown",
   "metadata": {},
   "source": [
    "# Abstract\n",
    "In this project, we will explore Diabetes prediction dataset provided by Kaggle and build a model that could predict whether a patient has diabetes or not. The data used contained 60000 observations, each with 8 variables including gender, age, smoke history, etc. We will utilize pandas to format the data and extract only the attributes we need. We will use different models, including knn, svm, and decision tree to build our ML system, each will be find-tuned with grid search cross validation method. The final performance will be evaluated through several metrics, including accuracy, recall and f1 score."
   ]
  },
  {
   "attachments": {},
   "cell_type": "markdown",
   "metadata": {},
   "source": [
    "# Background\n",
    "\n",
    "Fill in the background and discuss the kind of prior work that has gone on in this research area here. **Use inline citation** to specify which references support which statements.  You can do that through HTML footnotes (demonstrated here). I used to reccommend Markdown footnotes (google is your friend) because they are simpler but recently I have had some problems with them working for me whereas HTML ones always work so far. So use the method that works for you, but do use inline citations.\n",
    "\n",
    "Here is an example of inline citation. After government genocide in the 20th century, real birds were replaced with surveillance drones designed to look just like birds<a name=\"lorenz\"></a>[<sup>[1]</sup>](#lorenznote). Use a minimum of 2 or 3 citations, but we prefer more <a name=\"admonish\"></a>[<sup>[2]</sup>](#admonishnote). You need enough citations to fully explain and back up important facts. \n",
    "\n",
    "Remeber you are trying to explain why someone would want to answer your question or why your hypothesis is in the form that you've stated. "
   ]
  },
  {
   "attachments": {},
   "cell_type": "markdown",
   "metadata": {},
   "source": [
    "# Problem Statement\n",
    "\n",
    "Using machine learning, we aims to predict patients' diabetes status based on their healthy conditions. We will use the dataset with 60000 observations to build our ML system. The problem is quantifiable in the way that the outputs of our model will be either 1 or 0, where 1 stands for the presence of diabetes and 0 stands for the absence of diabetes. The problem is a typical binary classification problem, so our ML system can be measured with various metrics, including accuracy, recall, and f1 score. The problem is also replicable with new data as long as the data contains the required healthy conditions of patients."
   ]
  },
  {
   "attachments": {},
   "cell_type": "markdown",
   "metadata": {},
   "source": [
    "# Data\n",
    "In this project, we will explore [Diabetes prediction dataset](https://www.kaggle.com/datasets/rounakbanik/the-movies-dataset)</a><sup>[1]</sup> provided by kaggle. The Diabetes prediction dataset is a collection of medical and demographic data from patients. This dataset contains 60000 observations and 8 variables from patients with or without diabetes.\n",
    "\n",
    "Each observation consists of the patient's healthy conditions, including their age, gender, body mass index (BMI), hypertension, heart disease, smoking history, HbA1c level, and blood glucose level, along with their diabetes status. One sample observation is as following:\n",
    "```json\n",
    "{\n",
    "   \"gender\": \"Female\",\n",
    "    \"age\": 80.0,\n",
    "    \"hypertension\": 0,\n",
    "    \"heart_disease\": 1,\n",
    "    \"smoking_history\": \"never\",\n",
    "    \"bmi\": 25.19,\n",
    "    \"HbA1c_level\": 6.6,\n",
    "    \"blood glucose level\": 140,\n",
    "    \"diabetes\": 0\n",
    "}\n",
    "```\n",
    "\n",
    "The most critical variable is \"diabetes\", where 1 stands for the presence of diabetes and 0 for the absense of diabetes. Another critical variable is \"blood glucose level\", which is represented by a float.\n",
    "\n",
    "Before building our ML system, we will transform the categorical variables to numerical variables with one-hot-encoding. We might also randomly sample a subset of the dataset for our use depending on our computational resource."
   ]
  },
  {
   "attachments": {},
   "cell_type": "markdown",
   "metadata": {},
   "source": [
    "# Proposed Solution\n",
    "\n",
    "In this section, clearly describe a solution to the problem. The solution should be applicable to the project domain and appropriate for the dataset(s) or input(s) given. Provide enough detail (e.g., algorithmic description and/or theoretical properties) to convince us that your solution is applicable. Why might your solution work? Make sure to describe how the solution will be tested.  \n",
    "\n",
    "If you know details already, describe how (e.g., library used, function calls) you plan to implement the solution in a way that is reproducible.\n",
    "\n",
    "If it is appropriate to the problem statement, describe a benchmark model<a name=\"sota\"></a>[<sup>[3]</sup>](#sotanote) against which your solution will be compared. "
   ]
  },
  {
   "attachments": {},
   "cell_type": "markdown",
   "metadata": {},
   "source": [
    "# Evaluation Metrics\n",
    "\n",
    "Our ML system will perform a typical binary classification task, where the final results can be represented in a confusion matrix:\n",
    "\n",
    "|                |          | **Prediction** |          |\n",
    "| -------------- | -------- | -------------- | -------- |\n",
    "|                |          | Positive       | Negative |\n",
    "| **True Label** | Positive | TP             | FN       |\n",
    "|                | Negative | FP             | TN       |\n",
    "\n",
    "We will use different matrices, including accuracy, recall, and f1 score. The corresponding mathematics representations are in the following:\n",
    "$Accuracy = \\frac{TP+TN}{TP+FP+FN+TN}$\n",
    "$Recall = \\frac{TP}{TP+FN}$\n",
    "$F1 = 2*\\frac{Precision * Recall}{Precision + Recall}$, where $Precision = \\frac{TP}{TP+FP}$\n"
   ]
  },
  {
   "attachments": {},
   "cell_type": "markdown",
   "metadata": {},
   "source": [
    "# Ethics & Privacy\n",
    "\n",
    "When engaging in data-driven machine learning, it is important to consider the ethical implications and privacy concerns associated with data usage. In the context of online review platforms, the data used can potentially expose personal information of individuals who provided reviews. To lower this risk, we have selected a dataset where no patient's personal information, such as name and contact info, is included.\n",
    "\n",
    "Additionally, it is crucial to ensure that any insights derived from the data analysis are free from biases or discrimination against specific groups or people. Transparency is key in presenting findings, and any potential biases in the data must be acknowledged and appropriately addressed.\n",
    "\n",
    "Furthermore, the data will be used exclusively for academic purposes, with no sharing or selling to third parties. Ultimately, our analysis is conducted with a responsible and ethical approach to avoid any potential harm to individuals or businesses involved."
   ]
  },
  {
   "attachments": {},
   "cell_type": "markdown",
   "metadata": {},
   "source": [
    "# Team Expectations\n",
    "- Weekly team meetings will be held to collectively determine the primary goal for the week.\n",
    "- Despite having different responsibilities, each team member is expected to contribute an approximately equal amount of time to the project overall.\n",
    "- It is crucial to ensure that there are no team members who do not actively contribute to the project. Any instances of this will be immediately reported.\n",
    "- All tasks must be completed within the agreed-upon deadline established during the weekly meeting, and there should be no unexplained delays."
   ]
  },
  {
   "attachments": {},
   "cell_type": "markdown",
   "metadata": {},
   "source": [
    "# Project Timeline Proposal\n",
    "| Meeting Date  | Meeting Time| Completed Before Meeting  | Discuss at Meeting |\n",
    "|---|---|---|---|\n",
    "| 5/14  |  Afternoon |  Nothing  | Familiarize ourselves with each other during the first in-person meeting. Engage in a discussion to identify and discuss the strengths and weaknesses of each group member. Find the dataset used in this project |\n",
    "| 5/17  |  whole day |  investigate the dataset  | Complete the project proposal. |\n",
    "| 5/20  | planning  | Preprocess the dataset in the notebook | First attempt to perform some data analysis on the dataset. Familiarize with the dataset. |\n",
    "| 5/27  | undetermined  | To be discussed on 5/20 |  |\n",
    "| 6/3  | undetermined  | To be discussed on 5/27 |  |\n",
    "| 6/10  | undetermined  | To be discussed on 6/3 |  |\n",
    "| 6/19  | Before 11:59 PM  | NA | Turn in Final Project  |"
   ]
  },
  {
   "attachments": {},
   "cell_type": "markdown",
   "metadata": {},
   "source": [
    "# Footnotes\n",
    "<a name=\"lorenznote\"></a>1.[^](#lorenz): Banik, R. (2017) The Movies Dataset *Kaggle*. https://www.kaggle.com/datasets/rounakbanik/the-movies-dataset<br>\n",
    "<a name=\"admonishnote\"></a>2.[^](#admonish): Also refs should be important to the background, not some randomly chosen vaguely related stuff. Include a web link if possible in refs as above.<br>\n",
    "<a name=\"sotanote\"></a>3.[^](#sota): Perhaps the current state of the art solution such as you see on [Papers with code](https://paperswithcode.com/sota). Or maybe not SOTA, but rather a standard textbook/Kaggle solution to this kind of problem\n"
   ]
  }
 ],
 "metadata": {
  "kernelspec": {
   "display_name": "Python 3",
   "language": "python",
   "name": "python3"
  },
  "language_info": {
   "codemirror_mode": {
    "name": "ipython",
    "version": 3
   },
   "file_extension": ".py",
   "mimetype": "text/x-python",
   "name": "python",
   "nbconvert_exporter": "python",
   "pygments_lexer": "ipython3",
   "version": "3.8.8"
  }
 },
 "nbformat": 4,
 "nbformat_minor": 2
}
