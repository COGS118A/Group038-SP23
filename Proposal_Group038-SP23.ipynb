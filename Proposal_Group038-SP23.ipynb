{
 "cells": [
  {
   "attachments": {},
   "cell_type": "markdown",
   "metadata": {},
   "source": [
    "# COGS 118A - Project Proposal - Group 38"
   ]
  },
  {
   "attachments": {},
   "cell_type": "markdown",
   "metadata": {},
   "source": [
    "# Names\n",
    "- Bruce Zhou\n",
    "- Yifei Wang\n",
    "- Qiyun Li"
   ]
  },
  {
   "attachments": {},
   "cell_type": "markdown",
   "metadata": {},
   "source": [
    "# Abstract\n",
    "In this project, we aim to construct a machine learning model capable of predicting diabetes in patients using a dataset sourced from Kaggle. The dataset contains 60,000 observations, each characterized by 8 variables including age, gender, smoking history, and more. The pandas library will be utilized to streamline data preprocessing and attribute selection. Several predictive models, namely k-Nearest Neighbors (knn), Support Vector Machines (svm), and Decision Trees, will be employed to build the predictive system. These models will undergo fine-tuning using the grid search cross-validation method to optimize their performance. The effectiveness of the final model will be gauged by various performance metrics, including accuracy, recall, and the F1 score. This comprehensive evaluation will ensure the model's robustness and reliability in predicting diabetes. Our ultimate objective is to provide a powerful tool for early diabetes prediction, potentially enabling timely intervention and management of the disease."
   ]
  },
  {
   "attachments": {},
   "cell_type": "markdown",
   "metadata": {},
   "source": [
    "# Background\n",
    "\n",
    "Diabetes is a global health problem affecting a significant percentage of the population worldwide, presenting substantial public health and economic burdens[<sup>[1]</sup>](#1) . Timely and accurate diabetes prediction is paramount in facilitating early intervention and management, which can significantly enhance patient outcomes and mitigate associated healthcare costs[<sup>[2]</sup>](#2). Machine learning has been recognized as an instrumental tool in predicting diabetes, harnessing the power of vast health data for refined disease prediction and management[<sup>[3]</sup>](#3). Various machine learning methods, including decision trees, k-nearest neighbors (knn), and support vector machines (svm), have been applied in this field[<sup>[4]</sup>](#4). Existing research has corroborated the efficacy of these machine learning models in predicting diabetes. Maniruzzaman et al. deployed decision trees, knn, and svm to predict diabetes and reported appreciable levels of accuracy[<sup>[5]</sup>](#5). Furthermore, Khan et al. emphasized the importance of optimizing these models using methods such as grid search for superior performance[<sup>[6]</sup>](#6).\n",
    "\n",
    "Despite these promising developments, certain areas require further exploration. Many of the previous studies have concentrated on smaller datasets, whereas applying machine learning to larger and more comprehensive datasets, like the one used in this study, could potentially enhance prediction accuracy. Additionally, a scarcity of studies have compared the performance of multiple models on the same dataset to identify the best model or combination of models for diabetes prediction. In view of these gaps in the existing literature, our project will deploy multiple machine learning techniques, including decision trees, knn, and svm, to a large diabetes dataset. We will also fine-tune these models using grid search cross-validation and assess their performance using various metrics to offer a comprehensive evaluation of their predictive ability. Our endeavor could provide valuable insights into the optimal machine learning methodologies for diabetes prediction, thereby bolstering early detection and intervention strategies."
   ]
  },
  {
   "attachments": {},
   "cell_type": "markdown",
   "metadata": {},
   "source": [
    "# Problem Statement\n",
    "\n",
    "Using machine learning, we aim to predict patients' diabetes status based on their healthy conditions. We will use the dataset with 60000 observations to build our ML system. The problem is quantifiable in the way that the outputs of our model will be either 1 or 0, where 1 stands for the presence of diabetes and 0 stands for the absence of diabetes. The problem is a typical binary classification problem, so our ML system can be measured with various metrics, including accuracy, recall, and f1 score. The problem is also replicable with new data as long as the data contains the required healthy conditions of patients."
   ]
  },
  {
   "attachments": {},
   "cell_type": "markdown",
   "metadata": {},
   "source": [
    "# Data\n",
    "In this project, we will explore [Diabetes prediction dataset](https://www.kaggle.com/datasets/iammustafatz/diabetes-prediction-dataset)</a><sup>[1]</sup> provided by kaggle. The Diabetes prediction dataset is a collection of medical and demographic data from patients. This dataset contains 60000 observations and 8 variables from patients with or without diabetes.\n",
    "\n",
    "Each observation consists of the patient's healthy conditions, including their age, gender, body mass index (BMI), hypertension, heart disease, smoking history, HbA1c level, and blood glucose level, along with their diabetes status. One sample observation is as following:\n",
    "```json\n",
    "{\n",
    "   \"gender\": \"Female\",\n",
    "    \"age\": 80.0,\n",
    "    \"hypertension\": 0,\n",
    "    \"heart_disease\": 1,\n",
    "    \"smoking_history\": \"never\",\n",
    "    \"bmi\": 25.19,\n",
    "    \"HbA1c_level\": 6.6,\n",
    "    \"blood glucose level\": 140,\n",
    "    \"diabetes\": 0\n",
    "}\n",
    "```\n",
    "\n",
    "The most critical variable is \"diabetes\", where 1 stands for the presence of diabetes and 0 for the absense of diabetes. Another critical variable is \"blood glucose level\", which is represented by a float.\n",
    "\n",
    "Before building our ML system, we will transform the categorical variables to numerical variables with one-hot-encoding. We might also randomly sample a subset of the dataset for our use depending on our computational resource."
   ]
  },
  {
   "attachments": {},
   "cell_type": "markdown",
   "metadata": {},
   "source": [
    "# Proposed Solution\n",
    "\n",
    "For the problem at hand, our proposed solution involves building a machine learning system that utilizes various algorithms to predict diabetes status based on patients' health conditions. With a dataset encompassing 60,000 observations, the model will be trained to generate binary outputs: 1 for the presence of diabetes and 0 for its absence.\n",
    "\n",
    "The machine learning algorithms to be employed in this project include k-Nearest Neighbors (knn), Support Vector Machines (svm), and Decision Trees. And here are the Algorithm description:\n",
    "\n",
    "| **Algorithm**             | **Description**   |\n",
    "|-----------------------|---------------|\n",
    "| k-Nearest Neighbors (knn) | This algorithm classifies a data point based on the majority class of its 'k' nearest neighbors in the training data. In our context, it can be used to classify a patient as diabetic or non-diabetic based on the diabetes status of the 'k' most similar patients in our dataset. |\n",
    "| Support Vector Machines (svm) | SVMs find the hyperplane that separates classes with the maximum margin in a high-dimensional feature space. In the diabetes prediction context, this means finding the hyperplane that best separates diabetic and non-diabetic patients based on their health conditions. |\n",
    "| Decision Trees | Decision trees make decisions by recursively partitioning data based on feature values. In our problem, a decision tree could be used to determine whether a patient is likely to have diabetes based on decisions made at each node, which correspond to health condition attributes. |\n",
    "\n",
    "The implementation of the solution will use Python and its robust libraries like pandas and scikit-learn. The sklearn's GridSearchCV function will be used for fine-tuning model parameters to improve the prediction accuracy. The output will be tested by error metrics. These metrics will provide a comprehensive view of model performance, allowing us to identify the model that delivers the best predictive performance. To ensure the robustness of our solution, we will compare our model to a benchmark model. The benchmark model will be a simple logistic regression model, which is a common choice for binary classification problems.\n",
    "\n",
    "For data selection, we follow the 70-15-15 rule: 70% of the data for training, 15% for validation, and the remaining 15% for testing. After dividing the dataset, we will train our models using the training data with methods above. To fine-tune the hyperparameters and avoid overfitting, we choose the grid search cross-validation method. The training set is randomly partitioned into 'k' equal-sized subsets. One of the subsets are used for validation, and the remaining subset is used for training. This process is repeated 'k' times, each time with a different validation subset, and the average performance metric is computed. The combination of hyperparameters with the best average performance will be selected."
   ]
  },
  {
   "attachments": {},
   "cell_type": "markdown",
   "metadata": {},
   "source": [
    "# Evaluation Metrics\n",
    "\n",
    "Our ML system will perform a typical binary classification task, where the final results can be represented in a confusion matrix:\n",
    "\n",
    "|                |          | **Prediction** |          |\n",
    "| -------------- | -------- | -------------- | -------- |\n",
    "|                |          | Positive       | Negative |\n",
    "| **True Label** | Positive | TP             | FN       |\n",
    "|                | Negative | FP             | TN       |\n",
    "\n",
    "We will use different matrices, including accuracy, recall, and f1 score. The corresponding mathematics representations are in the following:\n",
    "$$\n",
    "Accuracy = \\frac{TP+TN}{TP+FP+FN+TN}\\\\\n",
    "Recall = \\frac{TP}{TP+FN}\\\\\n",
    "F1 = 2*\\frac{Precision * Recall}{Precision + Recall}\\text{, where }Precision = \\frac{TP}{TP+FP}\n",
    "$$\n"
   ]
  },
  {
   "attachments": {},
   "cell_type": "markdown",
   "metadata": {},
   "source": [
    "# Ethics & Privacy\n",
    "\n",
    "When engaging in data-driven machine learning, it is important to consider the ethical implications and privacy concerns associated with data usage. In the context of online review platforms, the data used can potentially expose personal information of individuals who provided reviews. To lower this risk, we have selected a dataset where no patient's personal information, such as name and contact info, is included.\n",
    "\n",
    "Additionally, it is crucial to ensure that any insights derived from the data analysis are free from biases or discrimination against specific groups or people. Transparency is key in presenting findings, and any potential biases in the data must be acknowledged and appropriately addressed.\n",
    "\n",
    "Furthermore, the data will be used exclusively for academic purposes, with no sharing or selling to third parties. Ultimately, our analysis is conducted with a responsible and ethical approach to avoid any potential harm to individuals or businesses involved."
   ]
  },
  {
   "attachments": {},
   "cell_type": "markdown",
   "metadata": {},
   "source": [
    "# Team Expectations\n",
    "- Weekly team meetings will be held to collectively determine the primary goal for the week.\n",
    "- Despite having different responsibilities, each team member is expected to contribute an approximately equal amount of time to the project overall.\n",
    "- It is crucial to ensure that there are no team members who do not actively contribute to the project. Any instances of this will be immediately reported.\n",
    "- All tasks must be completed within the agreed-upon deadline established during the weekly meeting, and there should be no unexplained delays."
   ]
  },
  {
   "attachments": {},
   "cell_type": "markdown",
   "metadata": {},
   "source": [
    "# Project Timeline Proposal\n",
    "| Meeting Date  | Meeting Time| Completed Before Meeting  | Discuss at Meeting |\n",
    "|---|---|---|---|\n",
    "| 5/14  |  Afternoon |  Nothing  | Familiarize ourselves with each other during the first in-person meeting. Engage in a discussion to identify and discuss the strengths and weaknesses of each group member. Find the dataset used in this project |\n",
    "| 5/17  |  whole day |  Investigate the dataset by looking at the summaries on the kaggle | Complete the project proposal. |\n",
    "| 5/20  | planning  | Preprocess the dataset in the notebook | First attempt to perform some data analysis on the dataset. Familiarize with the dataset. |\n",
    "| 5/27  | undetermined  | To be discussed on 5/20 |  |\n",
    "| 6/3  | undetermined  | To be discussed on 5/27 |  |\n",
    "| 6/10  | undetermined  | To be discussed on 6/3 |  |\n",
    "| 6/19  | Before 11:59 PM  | NA | Turn in Final Project  |"
   ]
  },
  {
   "attachments": {},
   "cell_type": "markdown",
   "metadata": {},
   "source": [
    "# Footnotes\n",
    "<a name=\"1\"></a>1.: World Health Organization. (2021). Diabetes. https://www.who.int/news-room/fact-sheets/detail/diabetes<br>\n",
    "<a name=\"2\"></a>2.: Khan, M. A., & Hashim, M. J. (2020). Global burden of diabetes. Diabetes Research and Clinical Practice. https://www.ncbi.nlm.nih.gov/pmc/articles/PMC7310804/.<br>\n",
    "<a name=\"3\"></a>3. : Darcy, A. M., Louie, A. K., & Roberts, L. W. (2016). Machine learning and the profession of medicine. JAMA, 315(6), 551-552. https://jamanetwork.com/journals/jama/article-abstract/2488315<br>\n",
    "<a name=\"4\"></a>4. : Kavakiotis, I., Tsave, O., Salifoglou, A., Maglaveras, N., Vlahavas, I., & Chouvarda, I. (2017). Machine learning and data mining methods in diabetes research. Computational and structural biotechnology journal, 15, 104-116. https://www.ncbi.nlm.nih.gov/pmc/articles/PMC5257026/ <br>\n",
    "<a name=\"5\"></a>5. : Maniruzzaman, M., Rahman, M. J., Al-MehediHasan, M., Suri, H. S., Abedin, M. M., El-Baz, A., & Suri, J. S. (2018). Accurate diabetes risk stratification using machine learning: role of missing value imputation and data balancing. Journal of Medical Systems, 42(4), 74. ↩ https://www.ncbi.nlm.nih.gov/pmc/articles/PMC5893681/<br>\n",
    "<a name=\"6\"></a>6. : Khan, J., Wei, J. S., Ringnér, M., Saal, L. H., Ladanyi, M., Westermann, F., Berthold, F., Schwab, M., Antonescu, C. R., Peterson, C., & Meltzer, P. S. (2001). Classification and diagnostic prediction of cancers using gene expression profiling and artificial neural networks. Nature Medicine, 7(6), 673-679. ↩ https://www.ncbi.nlm.nih.gov/pmc/articles/pmid/11385503/<br>"
   ]
  }
 ],
 "metadata": {
  "kernelspec": {
   "display_name": "Python 3",
   "language": "python",
   "name": "python3"
  },
  "language_info": {
   "codemirror_mode": {
    "name": "ipython",
    "version": 3
   },
   "file_extension": ".py",
   "mimetype": "text/x-python",
   "name": "python",
   "nbconvert_exporter": "python",
   "pygments_lexer": "ipython3",
   "version": "3.8.8"
  }
 },
 "nbformat": 4,
 "nbformat_minor": 2
}
