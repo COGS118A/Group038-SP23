{
 "cells": [
  {
   "cell_type": "code",
   "execution_count": 1,
   "metadata": {
    "ExecuteTime": {
     "end_time": "2023-05-29T22:52:54.044835Z",
     "start_time": "2023-05-29T22:52:53.404411Z"
    },
    "collapsed": true
   },
   "outputs": [],
   "source": [
    "import numpy as np\n",
    "import pandas as pd\n",
    "from sklearn.compose import make_column_selector as selector\n",
    "from sklearn.preprocessing import OneHotEncoder, StandardScaler\n",
    "from sklearn.compose import ColumnTransformer\n",
    "from sklearn.pipeline import Pipeline\n",
    "from sklearn.svm import SVC\n",
    "from sklearn.model_selection import train_test_split, GridSearchCV"
   ]
  },
  {
   "cell_type": "code",
   "execution_count": 2,
   "metadata": {
    "ExecuteTime": {
     "end_time": "2023-05-29T22:54:13.897871Z",
     "start_time": "2023-05-29T22:54:13.831812Z"
    },
    "collapsed": false
   },
   "outputs": [],
   "source": [
    "# read the dataset and build a preprocessor for it\n",
    "df = pd.read_csv('data/diabetes_prediction_dataset.csv')\n",
    "y = df['diabetes']\n",
    "X = df.drop(columns=['diabetes'])\n",
    "\n",
    "numerical_columns_selector = selector(dtype_exclude=object)\n",
    "categorical_columns_selector = selector(dtype_include=object)\n",
    "\n",
    "numerical_columns = numerical_columns_selector(X)\n",
    "categorical_columns = categorical_columns_selector(X)\n",
    "\n",
    "onehot = OneHotEncoder()\n",
    "scaler = StandardScaler()\n",
    "\n",
    "preprocessor = ColumnTransformer([\n",
    "    ('onehot', onehot, categorical_columns),\n",
    "    ('zscore', scaler, numerical_columns)\n",
    "])"
   ]
  },
  {
   "attachments": {},
   "cell_type": "markdown",
   "metadata": {},
   "source": [
    "# Part1: SVC Model"
   ]
  },
  {
   "cell_type": "code",
   "execution_count": 4,
   "metadata": {
    "ExecuteTime": {
     "end_time": "2023-05-29T22:49:57.643763Z",
     "start_time": "2023-05-29T22:49:57.632121Z"
    },
    "collapsed": false
   },
   "outputs": [],
   "source": [
    "df_10000 = df.sample(n=10000, random_state=38)\n",
    "y_10000 = df_10000['diabetes']\n",
    "X_10000 = df_10000.drop(columns=['diabetes'])\n",
    "\n",
    "pipe_SVC = Pipeline([\n",
    "    ('make_futures', preprocessor),\n",
    "    ('classifier', SVC())\n",
    "])\n",
    "\n",
    "search_space_SVC = [{'classifier__kernel': ['linear'],\n",
    "                 'classifier__C': np.logspace(-3, 2, 11)\n",
    "                },\n",
    "                {'classifier__kernel': ['poly'],\n",
    "                 'classifier__gamma': np.logspace(-3, 2, 5),\n",
    "                 'classifier__degree': range(2,5),\n",
    "                 'classifier__C': np.logspace(-3, 2, 5)\n",
    "                },\n",
    "                {'classifier__kernel': ['rbf'],\n",
    "                 'classifier__gamma': np.logspace(-3, 2, 9),\n",
    "                 'classifier__C': np.logspace(-3, 2, 9)\n",
    "                },\n",
    "                ]\n",
    "\n",
    "best_model_SVC = GridSearchCV(pipe_SVC, search_space_SVC, cv=5, verbose=1)\n",
    "\n",
    "X_train, X_test, y_train, y_test = train_test_split(X_10000, y_10000,\n",
    "                                                    test_size=0.25, random_state=38)"
   ]
  },
  {
   "cell_type": "code",
   "execution_count": 5,
   "metadata": {
    "ExecuteTime": {
     "end_time": "2023-05-29T22:54:16.137082Z",
     "start_time": "2023-05-29T22:54:16.126331Z"
    },
    "collapsed": false
   },
   "outputs": [],
   "source": [
    "base_model_SVC = Pipeline([\n",
    "    ('make_futures', preprocessor),\n",
    "    ('classifier', SVC())\n",
    "])\n",
    "base_model_SVC.fit(X_train, y_train)\n",
    "y_pred = base_model_SVC.predict(X_test)\n",
    "\n",
    "df_SVC = pd.DataFrame({'label': y_test, 'predict_base':y_pred})"
   ]
  },
  {
   "cell_type": "code",
   "execution_count": 6,
   "metadata": {},
   "outputs": [
    {
     "name": "stdout",
     "output_type": "stream",
     "text": [
      "Fitting 5 folds for each of 167 candidates, totalling 835 fits\n"
     ]
    }
   ],
   "source": [
    "%time best_model_SVC.fit(X_train, y_train)\n",
    "\n",
    "y_pred = best_model_SVC.predict(X_test)\n",
    "df_SVC['predict_best'] = y_pred"
   ]
  }
 ],
 "metadata": {
  "kernelspec": {
   "display_name": "Python 3",
   "language": "python",
   "name": "python3"
  },
  "language_info": {
   "codemirror_mode": {
    "name": "ipython",
    "version": 3
   },
   "file_extension": ".py",
   "mimetype": "text/x-python",
   "name": "python",
   "nbconvert_exporter": "python",
   "pygments_lexer": "ipython3",
   "version": "3.9.16"
  }
 },
 "nbformat": 4,
 "nbformat_minor": 0
}
