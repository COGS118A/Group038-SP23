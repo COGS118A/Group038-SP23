{
 "cells": [
  {
   "cell_type": "code",
   "execution_count": 8,
   "metadata": {
    "ExecuteTime": {
     "end_time": "2023-05-29T22:52:54.044835Z",
     "start_time": "2023-05-29T22:52:53.404411Z"
    },
    "collapsed": true
   },
   "outputs": [],
   "source": [
    "import numpy as np\n",
    "import pandas as pd\n",
    "from sklearn.compose import make_column_selector as selector\n",
    "from sklearn.preprocessing import OneHotEncoder, StandardScaler\n",
    "from sklearn.compose import ColumnTransformer\n",
    "from sklearn.pipeline import Pipeline\n",
    "from sklearn.svm import SVC\n",
    "from sklearn.model_selection import train_test_split, GridSearchCV\n",
    "from sklearn.metrics import accuracy_score, recall_score, f1_score, confusion_matrix, ConfusionMatrixDisplay\n",
    "from sklearn.neighbors import KNeighborsClassifier as KNN\n",
    "import matplotlib.pyplot as plt"
   ]
  },
  {
   "cell_type": "code",
   "execution_count": 18,
   "metadata": {
    "ExecuteTime": {
     "end_time": "2023-05-29T22:54:13.897871Z",
     "start_time": "2023-05-29T22:54:13.831812Z"
    },
    "collapsed": false
   },
   "outputs": [],
   "source": [
    "# read the dataset and build a preprocessor for it\n",
    "df = pd.read_csv('data/diabetes_prediction_dataset.csv')\n",
    "y = df['diabetes']\n",
    "X = df.drop(columns=['diabetes'])\n",
    "X_train, X_test, y_train, y_test = train_test_split(X, y, test_size=0.1, random_state=38)\n",
    "\n",
    "numerical_columns_selector = selector(dtype_exclude=object)\n",
    "categorical_columns_selector = selector(dtype_include=object)\n",
    "\n",
    "numerical_columns = numerical_columns_selector(X)\n",
    "categorical_columns = categorical_columns_selector(X)\n",
    "\n",
    "onehot = OneHotEncoder(handle_unknown='ignore')\n",
    "scaler = StandardScaler()\n",
    "\n",
    "preprocessor = ColumnTransformer([\n",
    "    ('onehot', onehot, categorical_columns),\n",
    "    ('zscore', scaler, numerical_columns)\n",
    "])"
   ]
  },
  {
   "attachments": {},
   "cell_type": "markdown",
   "metadata": {},
   "source": [
    "# Part1: SVC Model"
   ]
  },
  {
   "cell_type": "code",
   "execution_count": 19,
   "metadata": {
    "ExecuteTime": {
     "end_time": "2023-05-29T22:49:57.643763Z",
     "start_time": "2023-05-29T22:49:57.632121Z"
    },
    "collapsed": false
   },
   "outputs": [],
   "source": [
    "pipe_SVC = Pipeline([\n",
    "    ('make_futures', preprocessor),\n",
    "    ('classifier', SVC())\n",
    "])\n",
    "\n",
    "search_space_SVC = [{'classifier__kernel': ['linear'],\n",
    "                 'classifier__C': np.logspace(-3, 2, 11)\n",
    "                },\n",
    "                {'classifier__kernel': ['poly'],\n",
    "                 'classifier__gamma': np.logspace(-3, 1, 8),\n",
    "                 'classifier__degree': range(2,6),\n",
    "                 'classifier__C': np.logspace(-3, 1, 8)\n",
    "                },\n",
    "                {'classifier__kernel': ['rbf'],\n",
    "                 'classifier__gamma': np.logspace(-3, 1, 9),\n",
    "                 'classifier__C': np.logspace(-3, 1, 9)\n",
    "                }]\n",
    "\n",
    "best_model_SVC = GridSearchCV(pipe_SVC, search_space_SVC, cv=5, verbose=1)\n",
    "\n",
    "train_data = pd.merge(left=X_train, right=y_train, left_index=True, right_index=True)\n",
    "down_sampled = pd.concat([train_data[train_data['diabetes'] == 1].sample(n=3000, random_state=38), train_data[train_data['diabetes'] == 0].sample(n=7000, random_state=38)]).sample(frac=1, random_state=38)\n",
    "\n",
    "y_train_down_sampled = down_sampled['diabetes']\n",
    "X_train_down_sampled = down_sampled.drop(columns=['diabetes'])\n",
    "\n",
    "X_train_1000 = X_train_down_sampled[:1000]\n",
    "y_train_1000 = y_train_down_sampled[:1000]"
   ]
  },
  {
   "cell_type": "code",
   "execution_count": 20,
   "metadata": {},
   "outputs": [
    {
     "data": {
      "image/png": "[encoded data removed]",
      "text/plain": [
       "<Figure size 640x480 with 2 Axes>"
      ]
     },
     "metadata": {},
     "output_type": "display_data"
    }
   ],
   "source": [
    "default_svc = Pipeline([\n",
    "    ('make_futures', preprocessor),\n",
    "    ('classifier', SVC())\n",
    "])\n",
    "default_svc.fit(X_train[:10000], y_train[:10000])\n",
    "y_pred = default_svc.predict(X_test)\n",
    "\n",
    "cm = confusion_matrix(y_test, y_pred)\n",
    "cm_display = ConfusionMatrixDisplay(confusion_matrix = cm, display_labels = [False, True])\n",
    "cm_display.plot()\n",
    "plt.savefig('img/default_svc_cm.png')\n",
    "plt.show()"
   ]
  },
  {
   "cell_type": "code",
   "execution_count": 21,
   "metadata": {},
   "outputs": [
    {
     "data": {
      "text/plain": [
       "{'accuracy': 0.9609, 'recall': 0.5926748057713651, 'f1': 0.7320082248115147}"
      ]
     },
     "execution_count": 21,
     "metadata": {},
     "output_type": "execute_result"
    }
   ],
   "source": [
    "report = {\n",
    "    'accuracy': accuracy_score(y_test, y_pred),\n",
    "    'recall': recall_score(y_test, y_pred),\n",
    "    'f1': f1_score(y_test, y_pred)\n",
    "}\n",
    "report"
   ]
  },
  {
   "cell_type": "code",
   "execution_count": 127,
   "metadata": {},
   "outputs": [
    {
     "name": "stdout",
     "output_type": "stream",
     "text": [
      "Fitting 5 folds for each of 348 candidates, totalling 1740 fits\n",
      "CPU times: total: 2min\n",
      "Wall time: 2min 34s\n"
     ]
    }
   ],
   "source": [
    "%time best_model_SVC.fit(X_train_1000, y_train_1000)\n",
    "y_pred = best_model_SVC.predict(X_test)\n",
    "df_SVC = pd.DataFrame({'label': y_test, 'predict_1000':y_pred})"
   ]
  },
  {
   "cell_type": "code",
   "execution_count": 128,
   "metadata": {
    "collapsed": false
   },
   "outputs": [
    {
     "name": "stdout",
     "output_type": "stream",
     "text": [
      "best_params: {'classifier__C': 3.1622776601683795, 'classifier__gamma': 0.03162277660168379, 'classifier__kernel': 'rbf'}\n"
     ]
    }
   ],
   "source": [
    "print('best_params:', best_model_SVC.best_params_)"
   ]
  },
  {
   "cell_type": "code",
   "execution_count": 129,
   "metadata": {
    "collapsed": false
   },
   "outputs": [],
   "source": [
    "model_SVC_best_param = pipe_SVC.set_params(**best_model_SVC.best_params_)\n",
    "model_SVC_best_param.fit(X_train_down_sampled, y_train_down_sampled)\n",
    "y_pred = model_SVC_best_param.predict(X_test)\n",
    "df_SVC['predict_10000'] = y_pred"
   ]
  },
  {
   "cell_type": "code",
   "execution_count": 130,
   "metadata": {
    "collapsed": false
   },
   "outputs": [
    {
     "data": {
      "text/plain": [
       "{'accuracy': 0.9417, 'recall': 0.7880133185349611, 'f1': 0.7089365951073389}"
      ]
     },
     "execution_count": 130,
     "metadata": {},
     "output_type": "execute_result"
    }
   ],
   "source": [
    "report = {\n",
    "    'accuracy': accuracy_score(df_SVC['label'], df_SVC['predict_10000']),\n",
    "    'recall': recall_score(df_SVC['label'], df_SVC['predict_10000']),\n",
    "    'f1': f1_score(df_SVC['label'], df_SVC['predict_10000'])\n",
    "}\n",
    "report"
   ]
  },
  {
   "cell_type": "code",
   "execution_count": 133,
   "metadata": {
    "collapsed": false
   },
   "outputs": [],
   "source": [
    "df_SVC.to_csv('data/SVC_predict.csv')"
   ]
  },
  {
   "cell_type": "code",
   "execution_count": 14,
   "metadata": {},
   "outputs": [
    {
     "data": {
      "image/png": "[encoded data removed]",
      "text/plain": [
       "<Figure size 640x480 with 2 Axes>"
      ]
     },
     "metadata": {},
     "output_type": "display_data"
    }
   ],
   "source": [
    "df_SVC = pd.read_csv('data/SVC_predict.csv')\n",
    "cm = confusion_matrix(df_SVC['label'], df_SVC['predict_10000'])\n",
    "cm_display = ConfusionMatrixDisplay(confusion_matrix = cm, display_labels = [False, True])\n",
    "cm_display.plot()\n",
    "plt.savefig('img/svc_cm')\n",
    "plt.show()"
   ]
  },
  {
   "cell_type": "markdown",
   "metadata": {
    "collapsed": false
   },
   "source": [
    "# Part2: KNN Model"
   ]
  },
  {
   "cell_type": "code",
   "execution_count": 101,
   "metadata": {
    "collapsed": false
   },
   "outputs": [],
   "source": [
    "pipe_KNN = Pipeline([\n",
    "    ('make_futures', preprocessor),\n",
    "    ('classifier', KNN())\n",
    "])\n",
    "\n",
    "X_train_knn, X_valid_knn, y_train_knn, y_valid_knn = train_test_split(X_train, y_train, test_size=0.2, random_state=38)"
   ]
  },
  {
   "cell_type": "code",
   "execution_count": 102,
   "metadata": {
    "collapsed": false
   },
   "outputs": [],
   "source": [
    "scores = pd.DataFrame({'f1_score': [], 'accuracy_score': [], 'recall_score': []})\n",
    "for k in np.logspace(0, 2.5, 10):\n",
    "    curr_model = pipe_KNN.set_params(classifier__n_neighbors=int(k))\n",
    "    curr_model.fit(X_train_knn, y_train_knn)\n",
    "    y_pred = curr_model.predict(X_valid_knn)\n",
    "    scores.loc[int(k), 'f1_score'] = f1_score(y_valid_knn, y_pred)\n",
    "    scores.loc[int(k), 'accuracy_score'] = accuracy_score(y_valid_knn, y_pred)\n",
    "    scores.loc[int(k), 'recall_score'] = recall_score(y_valid_knn, y_pred)"
   ]
  },
  {
   "cell_type": "code",
   "execution_count": 116,
   "metadata": {
    "collapsed": false
   },
   "outputs": [
    {
     "data": {
      "text/plain": [
       "12"
      ]
     },
     "execution_count": 116,
     "metadata": {},
     "output_type": "execute_result"
    }
   ],
   "source": [
    "best_k = scores['accuracy_score'].idxmax()\n",
    "best_k"
   ]
  },
  {
   "cell_type": "code",
   "execution_count": 117,
   "metadata": {
    "collapsed": false
   },
   "outputs": [],
   "source": [
    "best_model_knn = pipe_KNN.set_params(classifier__n_neighbors=best_k)\n",
    "best_model_knn.fit(X_train, y_train)\n",
    "y_pred = best_model_knn.predict(X_test)\n",
    "\n",
    "df_knn = pd.DataFrame()\n",
    "df_knn['label'] = y_test\n",
    "df_knn['predict'] = y_pred"
   ]
  },
  {
   "cell_type": "code",
   "execution_count": 118,
   "metadata": {
    "collapsed": false
   },
   "outputs": [
    {
     "data": {
      "text/plain": [
       "{'k': 12,\n",
       " 'accuracy': 0.9613,\n",
       " 'recall': 0.5971143174250833,\n",
       " 'f1': 0.7354750512645251}"
      ]
     },
     "execution_count": 118,
     "metadata": {},
     "output_type": "execute_result"
    }
   ],
   "source": [
    "report = {\n",
    "    'k': best_k,\n",
    "    'accuracy': accuracy_score(df_knn['label'], df_knn['predict']),\n",
    "    'recall': recall_score(df_knn['label'], df_knn['predict']),\n",
    "    'f1': f1_score(df_knn['label'], df_knn['predict'])\n",
    "}\n",
    "report"
   ]
  },
  {
   "cell_type": "code",
   "execution_count": 132,
   "metadata": {
    "collapsed": false
   },
   "outputs": [],
   "source": [
    "df_knn.to_csv('data/KNN_predict.csv')"
   ]
  },
  {
   "cell_type": "code",
   "execution_count": 16,
   "metadata": {},
   "outputs": [
    {
     "data": {
      "image/png": "[encoded data removed]",
      "text/plain": [
       "<Figure size 640x480 with 2 Axes>"
      ]
     },
     "metadata": {},
     "output_type": "display_data"
    }
   ],
   "source": [
    "df_knn = pd.read_csv('data/KNN_predict.csv')\n",
    "cm = confusion_matrix(df_knn['label'], df_knn['predict'])\n",
    "cm_display = ConfusionMatrixDisplay(confusion_matrix = cm, display_labels = [False, True])\n",
    "cm_display.plot()\n",
    "plt.savefig('img/knn_cm.png')\n",
    "plt.show()"
   ]
  },
  {
   "cell_type": "markdown",
   "metadata": {
    "collapsed": false
   },
   "source": [
    "# Part3: Decision Tree Model"
   ]
  },
  {
   "cell_type": "code",
   "execution_count": null,
   "metadata": {
    "collapsed": false
   },
   "outputs": [],
   "source": []
  }
 ],
 "metadata": {
  "kernelspec": {
   "display_name": "Python 3",
   "language": "python",
   "name": "python3"
  },
  "language_info": {
   "codemirror_mode": {
    "name": "ipython",
    "version": 3
   },
   "file_extension": ".py",
   "mimetype": "text/x-python",
   "name": "python",
   "nbconvert_exporter": "python",
   "pygments_lexer": "ipython3",
   "version": "3.9.16"
  }
 },
 "nbformat": 4,
 "nbformat_minor": 0
}
