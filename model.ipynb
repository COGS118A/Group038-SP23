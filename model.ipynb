{
 "cells": [
  {
   "cell_type": "code",
   "execution_count": 1,
   "metadata": {
    "ExecuteTime": {
     "end_time": "2023-05-29T22:52:54.044835Z",
     "start_time": "2023-05-29T22:52:53.404411Z"
    },
    "collapsed": true
   },
   "outputs": [],
   "source": [
    "import numpy as np\n",
    "import pandas as pd\n",
    "from sklearn.compose import make_column_selector as selector\n",
    "from sklearn.preprocessing import OneHotEncoder, StandardScaler\n",
    "from sklearn.compose import ColumnTransformer\n",
    "from sklearn.pipeline import Pipeline\n",
    "from sklearn.svm import SVC\n",
    "from sklearn.model_selection import train_test_split, GridSearchCV\n",
    "from sklearn.metrics import accuracy_score, recall_score, f1_score\n",
    "from sklearn.neighbors import KNeighborsClassifier as KNN\n",
    "from sklearn.tree import DecisionTreeClassifier\n",
    "from sklearn.ensemble import GradientBoostingClassifier\n",
    "from sklearn.metrics import confusion_matrix, ConfusionMatrixDisplay"
   ]
  },
  {
   "cell_type": "code",
   "execution_count": 2,
   "metadata": {
    "ExecuteTime": {
     "end_time": "2023-05-29T22:54:13.897871Z",
     "start_time": "2023-05-29T22:54:13.831812Z"
    },
    "collapsed": false
   },
   "outputs": [],
   "source": [
    "# read the dataset and build a preprocessor for it\n",
    "df = pd.read_csv('data/diabetes_prediction_dataset.csv')\n",
    "y = df['diabetes']\n",
    "X = df.drop(columns=['diabetes'])\n",
    "X_train, X_test, y_train, y_test = train_test_split(X, y, test_size=0.1, random_state=38)\n",
    "\n",
    "numerical_columns_selector = selector(dtype_exclude=object)\n",
    "categorical_columns_selector = selector(dtype_include=object)\n",
    "\n",
    "numerical_columns = numerical_columns_selector(X)\n",
    "categorical_columns = categorical_columns_selector(X)\n",
    "\n",
    "onehot = OneHotEncoder(handle_unknown='ignore')\n",
    "scaler = StandardScaler()\n",
    "\n",
    "preprocessor = ColumnTransformer([\n",
    "    ('onehot', onehot, categorical_columns),\n",
    "    ('zscore', scaler, numerical_columns)\n",
    "])"
   ]
  },
  {
   "attachments": {},
   "cell_type": "markdown",
   "metadata": {},
   "source": [
    "# Part1: SVC Model"
   ]
  },
  {
   "cell_type": "code",
   "execution_count": 6,
   "metadata": {
    "ExecuteTime": {
     "end_time": "2023-05-29T22:49:57.643763Z",
     "start_time": "2023-05-29T22:49:57.632121Z"
    },
    "collapsed": false
   },
   "outputs": [],
   "source": [
    "pipe_SVC = Pipeline([\n",
    "    ('make_futures', preprocessor),\n",
    "    ('classifier', SVC())\n",
    "])\n",
    "\n",
    "search_space_SVC = [{'classifier__kernel': ['linear'],\n",
    "                 'classifier__C': np.logspace(-3, 2, 11)\n",
    "                },\n",
    "                {'classifier__kernel': ['poly'],\n",
    "                 'classifier__gamma': np.logspace(-3, 1, 8),\n",
    "                 'classifier__degree': range(2,6),\n",
    "                 'classifier__C': np.logspace(-3, 1, 8)\n",
    "                },\n",
    "                {'classifier__kernel': ['rbf'],\n",
    "                 'classifier__gamma': np.logspace(-3, 1, 9),\n",
    "                 'classifier__C': np.logspace(-3, 1, 9)\n",
    "                }]\n",
    "\n",
    "best_model_SVC = GridSearchCV(pipe_SVC, search_space_SVC, cv=5, verbose=1)\n",
    "\n",
    "train_data = pd.merge(left=X_train, right=y_train, left_index=True, right_index=True)\n",
    "down_sampled = pd.concat([train_data[train_data['diabetes'] == 1].sample(n=3000, random_state=38), train_data[train_data['diabetes'] == 0].sample(n=7000, random_state=38)]).sample(frac=1, random_state=38)\n",
    "\n",
    "y_train_down_sampled = down_sampled['diabetes']\n",
    "X_train_down_sampled = down_sampled.drop(columns=['diabetes'])\n",
    "\n",
    "X_train_1000 = X_train_down_sampled[:1000]\n",
    "y_train_1000 = y_train_down_sampled[:1000]"
   ]
  },
  {
   "cell_type": "code",
   "execution_count": 7,
   "metadata": {},
   "outputs": [
    {
     "name": "stdout",
     "output_type": "stream",
     "text": [
      "Fitting 5 folds for each of 348 candidates, totalling 1740 fits\n",
      "CPU times: total: 2min 29s\n",
      "Wall time: 2min 29s\n"
     ]
    }
   ],
   "source": [
    "%time best_model_SVC.fit(X_train_1000, y_train_1000)\n",
    "y_pred = best_model_SVC.predict(X_test)\n",
    "df_SVC = pd.DataFrame({'label': y_test, 'predict_1000':y_pred})"
   ]
  },
  {
   "cell_type": "code",
   "execution_count": 128,
   "metadata": {
    "collapsed": false
   },
   "outputs": [
    {
     "name": "stdout",
     "output_type": "stream",
     "text": [
      "best_params: {'classifier__C': 3.1622776601683795, 'classifier__gamma': 0.03162277660168379, 'classifier__kernel': 'rbf'}\n"
     ]
    }
   ],
   "source": [
    "print('best_params:', best_model_SVC.best_params_)"
   ]
  },
  {
   "cell_type": "code",
   "execution_count": 129,
   "metadata": {
    "collapsed": false
   },
   "outputs": [],
   "source": [
    "model_SVC_best_param = pipe_SVC.set_params(**best_model_SVC.best_params_)\n",
    "model_SVC_best_param.fit(X_train_down_sampled, y_train_down_sampled)\n",
    "y_pred = model_SVC_best_param.predict(X_test)\n",
    "df_SVC['predict_10000'] = y_pred"
   ]
  },
  {
   "cell_type": "code",
   "execution_count": 130,
   "metadata": {
    "collapsed": false
   },
   "outputs": [
    {
     "data": {
      "text/plain": [
       "{'accuracy': 0.9417, 'recall': 0.7880133185349611, 'f1': 0.7089365951073389}"
      ]
     },
     "execution_count": 130,
     "metadata": {},
     "output_type": "execute_result"
    }
   ],
   "source": [
    "report = {\n",
    "    'accuracy': accuracy_score(df_SVC['label'], df_SVC['predict_10000']),\n",
    "    'recall': recall_score(df_SVC['label'], df_SVC['predict_10000']),\n",
    "    'f1': f1_score(df_SVC['label'], df_SVC['predict_10000'])\n",
    "}\n",
    "report"
   ]
  },
  {
   "cell_type": "code",
   "execution_count": 133,
   "metadata": {
    "collapsed": false
   },
   "outputs": [],
   "source": [
    "df_SVC.to_csv('data/SVC_predict.csv')"
   ]
  },
  {
   "attachments": {},
   "cell_type": "markdown",
   "metadata": {
    "collapsed": false
   },
   "source": [
    "# Part2: KNN Model"
   ]
  },
  {
   "cell_type": "code",
   "execution_count": 7,
   "metadata": {
    "collapsed": false
   },
   "outputs": [],
   "source": [
    "pipe_KNN = Pipeline([\n",
    "    ('make_futures', preprocessor),\n",
    "    ('classifier', KNN())\n",
    "])\n",
    "\n",
    "X_train_knn, X_valid_knn, y_train_knn, y_valid_knn = train_test_split(X_train, y_train, test_size=0.2, random_state=38)"
   ]
  },
  {
   "cell_type": "code",
   "execution_count": 8,
   "metadata": {
    "collapsed": false
   },
   "outputs": [],
   "source": [
    "scores = pd.DataFrame({'f1_score': [], 'accuracy_score': [], 'recall_score': []})\n",
    "for k in np.logspace(0, 2.5, 10):\n",
    "    curr_model = pipe_KNN.set_params(classifier__n_neighbors=int(k))\n",
    "    \n",
    "    curr_model.fit(X_train_knn, y_train_knn)\n",
    "    y_pred = curr_model.predict(X_valid_knn)\n",
    "    scores.loc[int(k), 'f1_score'] = f1_score(y_valid_knn, y_pred)\n",
    "    scores.loc[int(k), 'accuracy_score'] = accuracy_score(y_valid_knn, y_pred)\n",
    "    scores.loc[int(k), 'recall_score'] = recall_score(y_valid_knn, y_pred)"
   ]
  },
  {
   "cell_type": "code",
   "execution_count": 9,
   "metadata": {
    "collapsed": false
   },
   "outputs": [
    {
     "data": {
      "text/plain": [
       "12"
      ]
     },
     "execution_count": 9,
     "metadata": {},
     "output_type": "execute_result"
    }
   ],
   "source": [
    "best_k = scores['accuracy_score'].idxmax()\n",
    "best_k"
   ]
  },
  {
   "cell_type": "code",
   "execution_count": 10,
   "metadata": {
    "collapsed": false
   },
   "outputs": [],
   "source": [
    "best_model_knn = pipe_KNN.set_params(classifier__n_neighbors=best_k)\n",
    "best_model_knn.fit(X_train, y_train)\n",
    "y_pred = best_model_knn.predict(X_test)\n",
    "\n",
    "df_knn = pd.DataFrame()\n",
    "df_knn['label'] = y_test\n",
    "df_knn['predict'] = y_pred"
   ]
  },
  {
   "cell_type": "code",
   "execution_count": 11,
   "metadata": {},
   "outputs": [
    {
     "data": {
      "text/html": [
       "<div>\n",
       "<style scoped>\n",
       "    .dataframe tbody tr th:only-of-type {\n",
       "        vertical-align: middle;\n",
       "    }\n",
       "\n",
       "    .dataframe tbody tr th {\n",
       "        vertical-align: top;\n",
       "    }\n",
       "\n",
       "    .dataframe thead th {\n",
       "        text-align: right;\n",
       "    }\n",
       "</style>\n",
       "<table border=\"1\" class=\"dataframe\">\n",
       "  <thead>\n",
       "    <tr style=\"text-align: right;\">\n",
       "      <th></th>\n",
       "      <th>label</th>\n",
       "      <th>predict</th>\n",
       "    </tr>\n",
       "  </thead>\n",
       "  <tbody>\n",
       "    <tr>\n",
       "      <th>81721</th>\n",
       "      <td>0</td>\n",
       "      <td>0</td>\n",
       "    </tr>\n",
       "    <tr>\n",
       "      <th>83672</th>\n",
       "      <td>0</td>\n",
       "      <td>0</td>\n",
       "    </tr>\n",
       "    <tr>\n",
       "      <th>60485</th>\n",
       "      <td>0</td>\n",
       "      <td>0</td>\n",
       "    </tr>\n",
       "    <tr>\n",
       "      <th>16700</th>\n",
       "      <td>0</td>\n",
       "      <td>0</td>\n",
       "    </tr>\n",
       "    <tr>\n",
       "      <th>80068</th>\n",
       "      <td>1</td>\n",
       "      <td>1</td>\n",
       "    </tr>\n",
       "    <tr>\n",
       "      <th>...</th>\n",
       "      <td>...</td>\n",
       "      <td>...</td>\n",
       "    </tr>\n",
       "    <tr>\n",
       "      <th>608</th>\n",
       "      <td>0</td>\n",
       "      <td>0</td>\n",
       "    </tr>\n",
       "    <tr>\n",
       "      <th>36427</th>\n",
       "      <td>0</td>\n",
       "      <td>0</td>\n",
       "    </tr>\n",
       "    <tr>\n",
       "      <th>96489</th>\n",
       "      <td>0</td>\n",
       "      <td>0</td>\n",
       "    </tr>\n",
       "    <tr>\n",
       "      <th>37703</th>\n",
       "      <td>0</td>\n",
       "      <td>0</td>\n",
       "    </tr>\n",
       "    <tr>\n",
       "      <th>91841</th>\n",
       "      <td>0</td>\n",
       "      <td>0</td>\n",
       "    </tr>\n",
       "  </tbody>\n",
       "</table>\n",
       "<p>10000 rows × 2 columns</p>\n",
       "</div>"
      ],
      "text/plain": [
       "       label  predict\n",
       "81721      0        0\n",
       "83672      0        0\n",
       "60485      0        0\n",
       "16700      0        0\n",
       "80068      1        1\n",
       "...      ...      ...\n",
       "608        0        0\n",
       "36427      0        0\n",
       "96489      0        0\n",
       "37703      0        0\n",
       "91841      0        0\n",
       "\n",
       "[10000 rows x 2 columns]"
      ]
     },
     "execution_count": 11,
     "metadata": {},
     "output_type": "execute_result"
    }
   ],
   "source": [
    "df_knn"
   ]
  },
  {
   "cell_type": "code",
   "execution_count": 12,
   "metadata": {
    "collapsed": false
   },
   "outputs": [
    {
     "data": {
      "text/plain": [
       "{'k': 12,\n",
       " 'accuracy': 0.9613,\n",
       " 'recall': 0.5971143174250833,\n",
       " 'f1': 0.7354750512645251}"
      ]
     },
     "execution_count": 12,
     "metadata": {},
     "output_type": "execute_result"
    }
   ],
   "source": [
    "report = {\n",
    "    'k': best_k,\n",
    "    'accuracy': accuracy_score(df_knn['label'], df_knn['predict']),\n",
    "    'recall': recall_score(df_knn['label'], df_knn['predict']),\n",
    "    'f1': f1_score(df_knn['label'], df_knn['predict'])\n",
    "}\n",
    "report"
   ]
  },
  {
   "cell_type": "code",
   "execution_count": 13,
   "metadata": {
    "collapsed": false
   },
   "outputs": [],
   "source": [
    "df_knn.to_csv('data/KNN_predict.csv')"
   ]
  },
  {
   "attachments": {},
   "cell_type": "markdown",
   "metadata": {
    "collapsed": false
   },
   "source": [
    "# Part3: Decision Tree Model"
   ]
  },
  {
   "cell_type": "code",
   "execution_count": 19,
   "metadata": {
    "collapsed": false
   },
   "outputs": [],
   "source": [
    "pipe_DT = Pipeline([('make_features', preprocessor),  # Use your preprocessor\n",
    "    ('classifier', DecisionTreeClassifier())  # Use a decision tree classifier\n",
    "])\n",
    "\n",
    "X_train_DT, X_valid_DT, y_train_DT, y_valid_DT = train_test_split(X_train, y_train, test_size=0.2, random_state=38)"
   ]
  },
  {
   "cell_type": "code",
   "execution_count": null,
   "metadata": {},
   "outputs": [],
   "source": []
  },
  {
   "cell_type": "code",
   "execution_count": 24,
   "metadata": {},
   "outputs": [],
   "source": [
    "hyperparameters = {\n",
    "    'classifier__criterion': ['gini', 'entropy'],\n",
    "    'classifier__max_depth': [None, 5, 7,10,12,15,18,20,50],\n",
    "    'classifier__min_samples_split': [2, 5, 10],\n",
    "    'classifier__min_samples_leaf': [1, 2, 5]\n",
    "}\n",
    "\n",
    "DT = GridSearchCV(pipe_DT, param_grid=hyperparameters, cv=5,verbose=1)\n",
    "\n",
    "train_data = pd.merge(left=X_train, right=y_train, left_index=True, right_index=True)\n",
    "down_sampled = pd.concat([train_data[train_data['diabetes'] == 1].sample(n=3000, random_state=38), train_data[train_data['diabetes'] == 0].sample(n=7000, random_state=38)]).sample(frac=1, random_state=38)\n",
    "\n",
    "y_train_down_sampled = down_sampled['diabetes']\n",
    "X_train_down_sampled = down_sampled.drop(columns=['diabetes'])\n",
    "\n",
    "X_train_1000 = X_train_down_sampled[:1000]\n",
    "y_train_1000 = y_train_down_sampled[:1000]\n",
    "#grid.fit(X_train_DT, y_train_DT)"
   ]
  },
  {
   "cell_type": "code",
   "execution_count": 25,
   "metadata": {},
   "outputs": [
    {
     "name": "stdout",
     "output_type": "stream",
     "text": [
      "Fitting 5 folds for each of 162 candidates, totalling 810 fits\n",
      "Fitting 5 folds for each of 162 candidates, totalling 810 fits\n",
      "Fitting 5 folds for each of 162 candidates, totalling 810 fits\n",
      "Fitting 5 folds for each of 162 candidates, totalling 810 fits\n",
      "Fitting 5 folds for each of 162 candidates, totalling 810 fits\n",
      "Fitting 5 folds for each of 162 candidates, totalling 810 fits\n",
      "Fitting 5 folds for each of 162 candidates, totalling 810 fits\n",
      "Fitting 5 folds for each of 162 candidates, totalling 810 fits\n",
      "6.41 s ± 65.8 ms per loop (mean ± std. dev. of 7 runs, 1 loop each)\n"
     ]
    }
   ],
   "source": [
    "%timeit DT.fit(X_train_1000, y_train_1000)\n",
    "y_pred = DT.predict(X_test)\n",
    "df_DT = pd.DataFrame({'label': y_test, 'predict_1000':y_pred})"
   ]
  },
  {
   "cell_type": "code",
   "execution_count": 27,
   "metadata": {},
   "outputs": [
    {
     "name": "stdout",
     "output_type": "stream",
     "text": [
      "Best parameters:  {'classifier__criterion': 'entropy', 'classifier__max_depth': 10, 'classifier__min_samples_leaf': 2, 'classifier__min_samples_split': 5}\n"
     ]
    }
   ],
   "source": [
    "print(\"Best parameters: \", DT.best_params_)\n",
    "y_pred = DT.predict(X_test)\n",
    "df_DT = pd.DataFrame({'label': y_test, 'predict_1000':y_pred})"
   ]
  },
  {
   "cell_type": "code",
   "execution_count": 29,
   "metadata": {},
   "outputs": [],
   "source": [
    "model_DT_best_param = pipe_DT.set_params(**DT.best_params_)\n",
    "model_DT_best_param.fit(X_train_down_sampled, y_train_down_sampled)\n",
    "y_pred = model_DT_best_param.predict(X_test)\n",
    "df_DT['predict_10000'] = y_pred"
   ]
  },
  {
   "cell_type": "code",
   "execution_count": 31,
   "metadata": {},
   "outputs": [
    {
     "data": {
      "text/plain": [
       "{'accuracy': 0.9463, 'recall': 0.806881243063263, 'f1': 0.730286288297338}"
      ]
     },
     "execution_count": 31,
     "metadata": {},
     "output_type": "execute_result"
    }
   ],
   "source": [
    "report = {\n",
    "    'accuracy': accuracy_score(df_DT['label'], df_DT['predict_10000']),\n",
    "    'recall': recall_score(df_DT['label'], df_DT['predict_10000']),\n",
    "    'f1': f1_score(df_DT['label'], df_DT['predict_10000'])\n",
    "}\n",
    "report"
   ]
  },
  {
   "cell_type": "code",
   "execution_count": 32,
   "metadata": {},
   "outputs": [],
   "source": [
    "df_DT.to_csv('data/DT_predict.csv')"
   ]
  },
  {
   "cell_type": "code",
   "execution_count": 33,
   "metadata": {},
   "outputs": [
    {
     "data": {
      "image/png": "[encoded data removed]",
      "text/plain": [
       "<Figure size 640x480 with 2 Axes>"
      ]
     },
     "metadata": {},
     "output_type": "display_data"
    }
   ],
   "source": [
    "cm = confusion_matrix(df_DT['label'], df_DT['predict_10000'])\n",
    "plt = ConfusionMatrixDisplay(cm, display_labels=['False', 'True']).plot()"
   ]
  },
  {
   "attachments": {},
   "cell_type": "markdown",
   "metadata": {},
   "source": [
    "# Part4: Boosting  Model"
   ]
  },
  {
   "cell_type": "code",
   "execution_count": 14,
   "metadata": {},
   "outputs": [],
   "source": [
    "pipe_boost = Pipeline([\n",
    "    ('make_futures', preprocessor),\n",
    "    ('boost', GradientBoostingClassifier())\n",
    "])\n",
    "\n",
    "search_space_boost = {\n",
    "        \"boost__loss\":[\"deviance\"],\n",
    "        \"boost__learning_rate\": [0.0001, 0.001, 0.01, 0.1],\n",
    "        \"boost__min_samples_split\": np.linspace(0.1, 0.5, 6),\n",
    "        \"boost__min_samples_leaf\": np.linspace(0.1, 0.5, 6),\n",
    "        \"boost__max_depth\":[3,6,9],\n",
    "        \"boost__max_features\":[\"log2\",\"sqrt\"],\n",
    "        \"boost__n_estimators\":[10]\n",
    "    }\n",
    "\n",
    "best_model_boost = GridSearchCV(pipe_boost, search_space_boost, cv=5, verbose=1)\n",
    "\n",
    "train_data = pd.merge(left=X_train, right=y_train, left_index=True, right_index=True)\n",
    "down_sampled = pd.concat([train_data[train_data['diabetes'] == 1].sample(n=3000, random_state=38), train_data[train_data['diabetes'] == 0].sample(n=7000, random_state=38)]).sample(frac=1, random_state=38)\n",
    "\n",
    "y_train_down_sampled = down_sampled['diabetes']\n",
    "X_train_down_sampled = down_sampled.drop(columns=['diabetes'])\n",
    "\n",
    "X_train_1000 = X_train_down_sampled[:1000]\n",
    "y_train_1000 = y_train_down_sampled[:1000]"
   ]
  },
  {
   "cell_type": "code",
   "execution_count": 16,
   "metadata": {},
   "outputs": [
    {
     "name": "stdout",
     "output_type": "stream",
     "text": [
      "Fitting 5 folds for each of 864 candidates, totalling 4320 fits\n",
      "Fitting 5 folds for each of 864 candidates, totalling 4320 fits\n",
      "Fitting 5 folds for each of 864 candidates, totalling 4320 fits\n",
      "Fitting 5 folds for each of 864 candidates, totalling 4320 fits\n",
      "Fitting 5 folds for each of 864 candidates, totalling 4320 fits\n",
      "Fitting 5 folds for each of 864 candidates, totalling 4320 fits\n",
      "Fitting 5 folds for each of 864 candidates, totalling 4320 fits\n",
      "Fitting 5 folds for each of 864 candidates, totalling 4320 fits\n",
      "59.4 s ± 2.53 s per loop (mean ± std. dev. of 7 runs, 1 loop each)\n"
     ]
    }
   ],
   "source": [
    "%timeit best_model_boost.fit(X_train_1000, y_train_1000)\n",
    "y_pred = best_model_boost.predict(X_test)\n",
    "df_boost = pd.DataFrame({'label': y_test, 'predict_1000':y_pred})"
   ]
  },
  {
   "cell_type": "code",
   "execution_count": 18,
   "metadata": {},
   "outputs": [
    {
     "data": {
      "text/plain": [
       "{'boost__learning_rate': 0.1,\n",
       " 'boost__loss': 'deviance',\n",
       " 'boost__max_depth': 9,\n",
       " 'boost__max_features': 'sqrt',\n",
       " 'boost__min_samples_leaf': 0.1,\n",
       " 'boost__min_samples_split': 0.18,\n",
       " 'boost__n_estimators': 10}"
      ]
     },
     "execution_count": 18,
     "metadata": {},
     "output_type": "execute_result"
    }
   ],
   "source": [
    "best_param_boost = best_model_boost.best_params_\n",
    "best_param_boost"
   ]
  },
  {
   "cell_type": "code",
   "execution_count": 19,
   "metadata": {},
   "outputs": [],
   "source": [
    "model_boost_best = pipe_boost.set_params(**best_param_boost)\n",
    "model_boost_best.fit(X_train_down_sampled, y_train_down_sampled)\n",
    "y_pred = model_boost_best.predict(X_test)\n",
    "df_boost['predict_10000'] = y_pred"
   ]
  },
  {
   "cell_type": "code",
   "execution_count": 20,
   "metadata": {},
   "outputs": [
    {
     "data": {
      "text/plain": [
       "{'accuracy': 0.9473, 'recall': 0.43951165371809103, 'f1': 0.6004548900682335}"
      ]
     },
     "execution_count": 20,
     "metadata": {},
     "output_type": "execute_result"
    }
   ],
   "source": [
    "report = {\n",
    "    'accuracy': accuracy_score(df_boost['label'], df_boost['predict_10000']),\n",
    "    'recall': recall_score(df_boost['label'], df_boost['predict_10000']),\n",
    "    'f1': f1_score(df_boost['label'], df_boost['predict_10000'])\n",
    "}\n",
    "report"
   ]
  },
  {
   "cell_type": "code",
   "execution_count": 21,
   "metadata": {},
   "outputs": [],
   "source": [
    "df_boost.to_csv('data/boost_predict.csv')"
   ]
  },
  {
   "cell_type": "code",
   "execution_count": 29,
   "metadata": {},
   "outputs": [
    {
     "data": {
      "image/png": "[encoded data removed]",
      "text/plain": [
       "<Figure size 432x288 with 2 Axes>"
      ]
     },
     "metadata": {
      "needs_background": "light"
     },
     "output_type": "display_data"
    }
   ],
   "source": [
    "cm = confusion_matrix(df_boost['label'], df_boost['predict_10000'])\n",
    "plt = ConfusionMatrixDisplay(cm, display_labels=['False', 'True']).plot()"
   ]
  },
  {
   "cell_type": "code",
   "execution_count": null,
   "metadata": {},
   "outputs": [],
   "source": []
  }
 ],
 "metadata": {
  "kernelspec": {
   "display_name": "Python 3",
   "language": "python",
   "name": "python3"
  },
  "language_info": {
   "codemirror_mode": {
    "name": "ipython",
    "version": 3
   },
   "file_extension": ".py",
   "mimetype": "text/x-python",
   "name": "python",
   "nbconvert_exporter": "python",
   "pygments_lexer": "ipython3",
   "version": "3.9.12"
  }
 },
 "nbformat": 4,
 "nbformat_minor": 0
}
